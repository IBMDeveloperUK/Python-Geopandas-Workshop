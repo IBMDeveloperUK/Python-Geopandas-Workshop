{
 "cells": [
  {
   "cell_type": "markdown",
   "metadata": {},
   "source": [
    "# Explore UK Crime Data with Pandas and GeoPandas\n",
    "\n",
    "\n",
    "## Table of Contents\n",
    "\n",
    "1. [Introduction to GeoPandas](#geopandas)<br>\n",
    "2. [Getting ready](#ready)<br>\n",
    "3. [London boroughs](#boroughs)<br>\n",
    "    3.1. [Load data](#load1)<br>\n",
    "    3.2. [Explore data](#explore1)<br>\n",
    "4. [Crime data](#crime)<br>\n",
    "    4.1. [Load data](#load2)<br>\n",
    "    4.2. [Explore data](#explore2)<br>\n",
    "5. [OSM data](#osm)<br>\n",
    "    5.1. [Load data](#load3)<br>\n",
    "    5.2. [Explore data](#explore3)<br>"
   ]
  },
  {
   "cell_type": "code",
   "execution_count": null,
   "metadata": {},
   "outputs": [],
   "source": [
    "import pandas as pd\n",
    "import geopandas as gpd\n",
    "from shapely.geometry import Point, LineString, Polygon\n",
    "import matplotlib.pyplot as plt\n",
    "from datetime import datetime\n",
    "\n",
    "%matplotlib inline"
   ]
  },
  {
   "cell_type": "markdown",
   "metadata": {},
   "source": [
    "<a id=\"geopandas\"></a>\n",
    "## 1. Introduction to GeoPandas\n",
    "\n",
    "> If you have not used Pandas before, please read through this [10 minute tutorial](http://pandas.pydata.org/pandas-docs/stable/getting_started/10min.html) or check out this [workshop](https://github.com/IBMDeveloperUK/pandas-workshop/blob/master/README.md).\n",
    "\n",
    "A GeoDataSeries or GeoDataFrame is very similar to a Pandas DataFrame, but has an additional column with the geometry. You can load a file, or create your own:"
   ]
  },
  {
   "cell_type": "code",
   "execution_count": null,
   "metadata": {},
   "outputs": [],
   "source": [
    "df = pd.DataFrame({'city':       ['London','Manchester','Birmingham','Leeds','Glasgow'],\n",
    "        'population': [9787426,  2553379,     2440986,    1777934, 1209143],\n",
    "        'area':       [1737.9,   630.3,       598.9,      487.8,   368.5 ],\n",
    "        'latitude':   [51.50853, 53.48095,    52.48142,   53.79648,55.86515],\n",
    "        'longitude':  [-0.12574, -2.23743,    -1.89983,   -1.54785,-4.25763]})\n",
    "\n",
    "df['geometry']  = list(zip(df.longitude, df.latitude))\n",
    "\n",
    "df['geometry'] = df['geometry'].apply(Point)\n",
    "\n",
    "cities = gpd.GeoDataFrame(df, geometry='geometry')\n",
    "cities.head()"
   ]
  },
  {
   "cell_type": "markdown",
   "metadata": {},
   "source": [
    "Creating a basic map is similar to creating a plot from a Pandas DataFrame:"
   ]
  },
  {
   "cell_type": "code",
   "execution_count": null,
   "metadata": {},
   "outputs": [],
   "source": [
    "cities.plot(column='population');"
   ]
  },
  {
   "cell_type": "markdown",
   "metadata": {},
   "source": [
    "As `cities` is a DataFrame you can apply data manipulations, for instance:"
   ]
  },
  {
   "cell_type": "code",
   "execution_count": null,
   "metadata": {},
   "outputs": [],
   "source": [
    "cities['population'].mean()"
   ]
  },
  {
   "cell_type": "markdown",
   "metadata": {},
   "source": [
    "### Points vs Lines vs Polygons\n",
    "\n",
    "We need some more data! Create Points by squeezing out the geometry for each city:"
   ]
  },
  {
   "cell_type": "code",
   "execution_count": null,
   "metadata": {},
   "outputs": [],
   "source": [
    "lon_point = cities.loc[cities['city'] == 'London', 'geometry'].squeeze()\n",
    "man_point = cities.loc[cities['city'] == 'Manchester', 'geometry'].squeeze()\n",
    "birm_point = cities.loc[cities['city'] == 'Birmingham', 'geometry'].squeeze()\n",
    "leeds_point = cities.loc[cities['city'] == 'Leeds', 'geometry'].squeeze()"
   ]
  },
  {
   "cell_type": "markdown",
   "metadata": {},
   "source": [
    "Lines between 2 cities by creating a LineString between 2 points:"
   ]
  },
  {
   "cell_type": "code",
   "execution_count": null,
   "metadata": {},
   "outputs": [],
   "source": [
    "lon_man_line = gpd.GeoSeries(LineString([lon_point, man_point]))\n",
    "man_birm_line = gpd.GeoSeries(LineString([man_point, birm_point]))\n",
    "birm_lon_line = gpd.GeoSeries(LineString([birm_point,lon_point]))\n",
    "leeds_man_line = gpd.GeoSeries(LineString([leeds_point, man_point]))\n",
    "birm_leeds_line = gpd.GeoSeries(LineString([birm_point,leeds_point]))"
   ]
  },
  {
   "cell_type": "markdown",
   "metadata": {},
   "source": [
    "A polygon between 3 cities by creating a Polygon between 3 points:"
   ]
  },
  {
   "cell_type": "code",
   "execution_count": null,
   "metadata": {},
   "outputs": [],
   "source": [
    "Polygon([[lon_point.x,lon_point.y],[man_point.x,man_point.y],[lon_point.x,lon_point.y]])\n",
    "lon_man_birm_polygon = gpd.GeoSeries(Polygon([[lon_point.x,lon_point.y],[man_point.x,man_point.y],[birm_point.x,birm_point.y],[lon_point.x,lon_point.y]]))\n",
    "leeds_man_birm_polygon = gpd.GeoSeries(Polygon([[leeds_point.x,leeds_point.y],[man_point.x,man_point.y],[birm_point.x,birm_point.y]]))"
   ]
  },
  {
   "cell_type": "markdown",
   "metadata": {},
   "source": [
    "And plot all of them together:"
   ]
  },
  {
   "cell_type": "code",
   "execution_count": null,
   "metadata": {},
   "outputs": [],
   "source": [
    "fig, (poly1,poly2) = plt.subplots(ncols=2, sharex=True, sharey=True)\n",
    "\n",
    "lon_man_birm_polygon.plot(ax=poly1, color='lightblue', edgecolor='black',alpha=0.5);\n",
    "lon_man_line.plot(ax=poly1,color='violet',alpha=0.5);\n",
    "man_birm_line.plot(ax=poly1,color='blue',alpha=0.5);\n",
    "birm_lon_line.plot(ax=poly1,color='green',alpha=0.5);\n",
    "\n",
    "leeds_man_birm_polygon.plot(ax=poly2, color='yellow', edgecolor='black',alpha=0.5);\n",
    "leeds_man_line.plot(ax=poly2,color='red',alpha=0.5);\n",
    "man_birm_line.plot(ax=poly2,color='blue',alpha=0.5);\n",
    "birm_leeds_line.plot(ax=poly2,color='green',alpha=0.5);"
   ]
  },
  {
   "cell_type": "markdown",
   "metadata": {},
   "source": [
    "### Overlay\n",
    "\n",
    "With overlay you can combine geometries, for instance union, difference, symmetrical difference and intersection are some of the operations that can be performed.\n",
    "\n",
    "Let's combine the 2 polygons:"
   ]
  },
  {
   "cell_type": "code",
   "execution_count": null,
   "metadata": {},
   "outputs": [],
   "source": [
    "poly1 = gpd.GeoDataFrame({'geometry': lon_man_birm_polygon})\n",
    "poly2 = gpd.GeoDataFrame({'geometry': leeds_man_birm_polygon})\n",
    "\n",
    "gpd.overlay( poly1, poly2, how='union').plot(color='red',alpha=0.5);"
   ]
  },
  {
   "cell_type": "markdown",
   "metadata": {},
   "source": [
    "### Buffer"
   ]
  },
  {
   "cell_type": "code",
   "execution_count": null,
   "metadata": {},
   "outputs": [],
   "source": [
    "cities1 = cities[0:1].copy()\n",
    "cities1.head()"
   ]
  },
  {
   "cell_type": "code",
   "execution_count": null,
   "metadata": {},
   "outputs": [],
   "source": [
    "base = cities1.buffer(3).plot(color='blue',alpha=0.5);\n",
    "cities1.buffer(2).plot(ax=base,color='green',alpha=0.5);\n",
    "cities1.buffer(1).plot(ax=base,color='yellow',alpha=0.5);\n",
    "cities1.plot(ax=base,color='red',alpha=0.5);"
   ]
  },
  {
   "cell_type": "markdown",
   "metadata": {},
   "source": [
    "##### Spatial relationships\n",
    "\n",
    "There are several functions to check geospatial relationships: `equals`, `contains`, `crosses`, `disjoint`,`intersects`,`overlaps`,`touches`,`within` and `covers`. These all use `shapely`: read more [here](https://shapely.readthedocs.io/en/stable/manual.html#predicates-and-relationships) and some more background [here](https://en.wikipedia.org/wiki/Spatial_relation).\n",
    "\n",
    "A few examples:"
   ]
  },
  {
   "cell_type": "code",
   "execution_count": null,
   "metadata": {},
   "outputs": [],
   "source": [
    "cities.head()"
   ]
  },
  {
   "cell_type": "code",
   "execution_count": null,
   "metadata": {},
   "outputs": [],
   "source": [
    "cities1.head()"
   ]
  },
  {
   "cell_type": "code",
   "execution_count": null,
   "metadata": {},
   "outputs": [],
   "source": [
    "cities1.contains(lon_point)"
   ]
  },
  {
   "cell_type": "code",
   "execution_count": null,
   "metadata": {},
   "outputs": [],
   "source": [
    "cities1[cities1.contains(lon_point)]"
   ]
  },
  {
   "cell_type": "code",
   "execution_count": null,
   "metadata": {},
   "outputs": [],
   "source": [
    "cities[cities.contains(man_point)]"
   ]
  },
  {
   "cell_type": "markdown",
   "metadata": {},
   "source": [
    "The inverse of `contains`:"
   ]
  },
  {
   "cell_type": "code",
   "execution_count": null,
   "metadata": {},
   "outputs": [],
   "source": [
    "cities[cities.within(cities1)]"
   ]
  },
  {
   "cell_type": "code",
   "execution_count": null,
   "metadata": {},
   "outputs": [],
   "source": [
    "cities[cities.disjoint(lon_point)]"
   ]
  },
  {
   "cell_type": "markdown",
   "metadata": {},
   "source": [
    "<a id=\"ready\"></a>\n",
    "## 2. Getting ready\n",
    "\n",
    "### 2.1. Add data to Cloud Object Store (COS)\n",
    "The data for this workshop needs to be added to your project. Go to the GitHub repo and download the files in the [data folder](https://github.com/IBMDeveloperUK/python-geopandas-workshop/tree/master/data) to your machine. \n",
    "\n",
    "Add the files in the data menu on the right of the notebook (click the 1010 button  at the top right if you do not see this) into COS:\n",
    "\n",
    "- boundaries.zip\n",
    "- 2018-1-metropolitan-street.zip\n",
    "- 2018-2-metropolitan-street.zip\n",
    "- 2018-metropolitan-stop-and-search.zip\n",
    "- london_inner_pois.zip\n"
   ]
  },
  {
   "cell_type": "markdown",
   "metadata": {},
   "source": [
    "### 2.2. Project Access token\n",
    "\n",
    "As the data files are not simple csv files, we need a little trick to load the data. The first thing you need is a project access token to programmatically access COS.\n",
    "\n",
    "Click the 3 dots at the top of the notebook to insert the project token that you created earlier. This will create a new cell in the notebook that you will need to run first before continuing with the rest of the notebook. If you are sharing this notebook you should remove this cell, else anyone can use you Cloud Object Storage from this project.\n",
    "\n",
    "> If you cannot find the new cell it is probably at the top of this notebook. Scroll up, run the cell and continue with section 2.3"
   ]
  },
  {
   "cell_type": "markdown",
   "metadata": {},
   "source": [
    "### 2.3. Helper function to load data into notebook\n",
    "\n",
    "The second thing you need to load data into the notebook is the below help function. Data will be copied to the local project space and loaded from there. The below helper function will do this for you. "
   ]
  },
  {
   "cell_type": "code",
   "execution_count": null,
   "metadata": {},
   "outputs": [],
   "source": [
    "# define the helper function \n",
    "def download_file_to_local(project_filename, local_file_destination=None, project=None):\n",
    "    \"\"\"\n",
    "    Uses project-lib to get a bytearray and then downloads this file to local.\n",
    "    Requires a valid `project` object.\n",
    "    \n",
    "    Args:\n",
    "        project_filename str: the filename to be passed to get_file\n",
    "        local_file_destination: the filename for the local file if different\n",
    "        \n",
    "    Returns:\n",
    "        0 if everything worked\n",
    "    \"\"\"\n",
    "    \n",
    "    project = project\n",
    "    \n",
    "    # get the file\n",
    "    print(\"Attempting to get file {}\".format(project_filename))\n",
    "    _bytes = project.get_file(project_filename).read()\n",
    "    \n",
    "    # check for new file name, download the file\n",
    "    print(\"Downloading...\")\n",
    "    if local_file_destination==None: local_file_destination = project_filename\n",
    "    \n",
    "    with open(local_file_destination, 'wb') as f: \n",
    "        f.write(bytearray(_bytes))\n",
    "        print(\"Completed writing to {}\".format(local_file_destination))\n",
    "        \n",
    "    return 0"
   ]
  },
  {
   "cell_type": "markdown",
   "metadata": {},
   "source": [
    "<a id=\"boroughs\"></a>\n",
    "## 3. London boroughs\n",
    "\n",
    "<a id=\"load1\"></a>\n",
    "### 3.1. Load data\n",
    "\n",
    "Geospatial data comes in many formats, but with GeoPandas you can read most files with just one command. For example this geojson file with the London boroughs:"
   ]
  },
  {
   "cell_type": "code",
   "execution_count": null,
   "metadata": {},
   "outputs": [],
   "source": [
    "# load data from a url\n",
    "boroughs = gpd.read_file(\"https://skgrange.github.io/www/data/london_boroughs.json\")\n",
    "boroughs.head()"
   ]
  },
  {
   "cell_type": "markdown",
   "metadata": {},
   "source": [
    "<a id=\"explore1\"></a>\n",
    "### 3.2. Explore data\n",
    "\n",
    "To plot a basic map add `.plot()` to a geoDataFrame.  "
   ]
  },
  {
   "cell_type": "code",
   "execution_count": null,
   "metadata": {},
   "outputs": [],
   "source": [
    "boroughs.plot();"
   ]
  },
  {
   "cell_type": "code",
   "execution_count": null,
   "metadata": {},
   "outputs": [],
   "source": [
    "boroughs.plot(column='code');"
   ]
  },
  {
   "cell_type": "code",
   "execution_count": null,
   "metadata": {},
   "outputs": [],
   "source": [
    "boroughs.plot(column='area_hectares');"
   ]
  },
  {
   "cell_type": "markdown",
   "metadata": {},
   "source": [
    "### Dissolve\n",
    "\n",
    "The boroughs are made up of many districts that you might want to combine. For this example this can be done by adding a new column and then use `.dissolve()`:"
   ]
  },
  {
   "cell_type": "code",
   "execution_count": null,
   "metadata": {},
   "outputs": [],
   "source": [
    "boroughs['all'] = 1\n",
    "allboroughs = boroughs.dissolve(by='all',aggfunc='sum')\n",
    "allboroughs.head()"
   ]
  },
  {
   "cell_type": "code",
   "execution_count": null,
   "metadata": {},
   "outputs": [],
   "source": [
    "allboroughs.plot();"
   ]
  },
  {
   "cell_type": "markdown",
   "metadata": {},
   "source": [
    "To change the size of the map and remove the box around the map, run the below:"
   ]
  },
  {
   "cell_type": "code",
   "execution_count": null,
   "metadata": {},
   "outputs": [],
   "source": [
    "[fig, ax] = plt.subplots(1, figsize=(10, 6))\n",
    "allboroughs.plot(ax=ax);\n",
    "ax.axis('off');"
   ]
  },
  {
   "cell_type": "markdown",
   "metadata": {},
   "source": [
    "### Join\n",
    "\n",
    "Let's join this with some more data: "
   ]
  },
  {
   "cell_type": "code",
   "execution_count": null,
   "metadata": {},
   "outputs": [],
   "source": [
    "df = pd.read_csv('https://raw.githubusercontent.com/IBMDeveloperUK/python-pandas-workshop/master/london-borough-profiles.csv',encoding = 'unicode_escape')"
   ]
  },
  {
   "cell_type": "code",
   "execution_count": null,
   "metadata": {},
   "outputs": [],
   "source": [
    "df.head()"
   ]
  },
  {
   "cell_type": "markdown",
   "metadata": {},
   "source": [
    "The columns to join the two tables on are `code` and `Code`. To use the join method, first the index of both tables has to be set to this column.\n",
    "\n",
    "The below adds the columns from `df` to `boroughs`:\n"
   ]
  },
  {
   "cell_type": "code",
   "execution_count": null,
   "metadata": {},
   "outputs": [],
   "source": [
    "boroughs = boroughs.set_index('code').join(df.set_index('Code'))\n",
    "boroughs.head()"
   ]
  },
  {
   "cell_type": "code",
   "execution_count": null,
   "metadata": {},
   "outputs": [],
   "source": [
    "boroughs2 = boroughs.dissolve(by='Inner/_Outer_London',aggfunc='mean')\n",
    "\n",
    "[fig, ax] = plt.subplots(1, figsize=(10, 6))\n",
    "boroughs2.plot(column='id', cmap='Paired', linewidth=0.5, edgecolor='black', legend=False, ax=ax);\n",
    "ax.axis('off');"
   ]
  },
  {
   "cell_type": "markdown",
   "metadata": {},
   "source": [
    "Below is a map of the average gender pay gap for each borough. \n",
    "\n",
    "* add a new column `paygap`\n",
    "* define the size of the plot\n",
    "* plot the background \n",
    "* add the paygap data and a title"
   ]
  },
  {
   "cell_type": "code",
   "execution_count": null,
   "metadata": {},
   "outputs": [],
   "source": [
    "boroughs['paygap'] =((boroughs['Gross_Annual_Pay_-_Male_(2016)'] - boroughs['Gross_Annual_Pay_-_Female_(2016)'])/ \\\n",
    "    boroughs['Gross_Annual_Pay_-_Male_(2016)']) * 100\n",
    "\n",
    "[fig,ax] = plt.subplots(1, figsize=(12, 8))\n",
    "\n",
    "boroughs.plot(ax=ax, color=\"lightgrey\", edgecolor='black', linewidth=0.5)\n",
    "\n",
    "boroughs.dropna().plot(column='paygap', cmap='Reds', edgecolor='black', linewidth=0.5,\n",
    "               legend=True, ax=ax);\n",
    "ax.axis('off');\n",
    "ax.set_title('Gender pay gap in London (2016)');"
   ]
  },
  {
   "cell_type": "markdown",
   "metadata": {},
   "source": [
    "<a id=\"crime\"></a>\n",
    "## 4. Crime data\n",
    "\n",
    "The crime data is pre-processed in this [notebook](https://github.com/IBMDeveloperUK/geopandas-workshop/blob/master/notebooks/prepare-uk-crime-data.ipynb) so it is easier to read here. We will only look at data from 2018.\n",
    "\n",
    "Data is downloaded from https://data.police.uk/ ([License](https://www.nationalarchives.gov.uk/doc/open-government-licence/version/3/))\n",
    "\n",
    "<a id=\"load2\"></a>\n",
    "### 4.1. Load data\n",
    "\n",
    "This dataset cannot be loaded into a geoDataFrame directly. Instead the data is loaded into a DataFrame and then converted:"
   ]
  },
  {
   "cell_type": "code",
   "execution_count": null,
   "metadata": {},
   "outputs": [],
   "source": [
    "download_file_to_local('2018-1-metropolitan-street.zip', project=project)\n",
    "download_file_to_local('2018-2-metropolitan-street.zip', project=project)\n",
    "street = pd.read_csv(\"./2018-1-metropolitan-street.zip\")\n",
    "street2 = pd.read_csv(\"./2018-2-metropolitan-street.zip\")\n",
    "street = street.append(street2) "
   ]
  },
  {
   "cell_type": "code",
   "execution_count": null,
   "metadata": {},
   "outputs": [],
   "source": [
    "download_file_to_local('2018-metropolitan-stop-and-search.zip', project=project)\n",
    "stop_search = pd.read_csv(\"./2018-metropolitan-stop-and-search.zip\")"
   ]
  },
  {
   "cell_type": "markdown",
   "metadata": {},
   "source": [
    "Clean up of the local directory:"
   ]
  },
  {
   "cell_type": "code",
   "execution_count": null,
   "metadata": {},
   "outputs": [],
   "source": [
    "! rm *.zip"
   ]
  },
  {
   "cell_type": "code",
   "execution_count": null,
   "metadata": {},
   "outputs": [],
   "source": [
    "street.head()"
   ]
  },
  {
   "cell_type": "code",
   "execution_count": null,
   "metadata": {},
   "outputs": [],
   "source": [
    "stop_search.head()"
   ]
  },
  {
   "cell_type": "markdown",
   "metadata": {},
   "source": [
    "#### Convert to geoDataFrames"
   ]
  },
  {
   "cell_type": "code",
   "execution_count": null,
   "metadata": {},
   "outputs": [],
   "source": [
    "street['coordinates'] = list(zip(street.Longitude, street.Latitude))\n",
    "street['coordinates'] = street['coordinates'].apply(Point)\n",
    "street = gpd.GeoDataFrame(street, geometry='coordinates')\n",
    "street.head()"
   ]
  },
  {
   "cell_type": "code",
   "execution_count": null,
   "metadata": {},
   "outputs": [],
   "source": [
    "stop_search['coordinates'] = list(zip(stop_search.Longitude, stop_search.Latitude))\n",
    "stop_search['coordinates'] = stop_search['coordinates'].apply(Point)\n",
    "stop_search = gpd.GeoDataFrame(stop_search, geometry='coordinates')\n",
    "stop_search.head()"
   ]
  },
  {
   "cell_type": "markdown",
   "metadata": {},
   "source": [
    "<a id=\"explore2\"></a>\n",
    "### 4.2. Explore data\n"
   ]
  },
  {
   "cell_type": "markdown",
   "metadata": {},
   "source": [
    "<div class=\"alert alert-success\">\n",
    " <b>EXERCISE</b> <br/> \n",
    " Explore the data with Pandas. There are no right or wrong answers, the questions below give you some suggestions at what to look at. <br/> \n",
    "   <ul>\n",
    "  <li>How much data is there? Is this changing over time? Can you plot this? </li>\n",
    "  <li>Are there missing values? Should these rows be deleted?  </li>\n",
    "  <li>Which columns of the datasets contain useful information? What kind of categories are there and are they all meaningful?</li>\n",
    "  <li>Which crimes occur most often? And near which location?</li>\n",
    "  <li>Is there anything you want to explore further or are curious about? Is there any data that you will need for this?</li>      \n",
    "  <li>Notice anything odd about the latitude and longitudes? Read here how the data is anonymised: https://data.police.uk/about/.</li>       \n",
    "  </ul> \n",
    "    \n",
    "  Uncomment and run the cells starting with '# %load' to see some of the things that we came up with. Run each cell twice, once to load the code and then again to run the code.  \n",
    "</div>  "
   ]
  },
  {
   "cell_type": "code",
   "execution_count": null,
   "metadata": {},
   "outputs": [],
   "source": [
    "# your data exploration (add as many cells as you need by clicking the `+` at the top of the notebook)\n"
   ]
  },
  {
   "cell_type": "code",
   "execution_count": null,
   "metadata": {},
   "outputs": [],
   "source": []
  },
  {
   "cell_type": "code",
   "execution_count": null,
   "metadata": {},
   "outputs": [],
   "source": [
    "# %load https://raw.githubusercontent.com/IBMDeveloperUK/python-geopandas-workshop/master/answers/answer1.py\n",
    "print ('rows in street: '+str(len(street)))\n",
    "\n",
    "# columns \n",
    "print ('Columns: '+str(street.columns))\n",
    "\n",
    "# categories\n",
    "print ('Crime type: '+str(street['Crime type'].unique()))\n",
    "print ('Last outcome category: '+str(street['Last outcome category'].unique()))\n",
    "print (street['Context'].unique())\n",
    "\n",
    "# delete columns\n",
    "street = street.drop(columns=['Unnamed: 0','Latitude', 'Longitude','Context'])\n",
    "\n",
    "# convert Date to datetime\n",
    "street['Month'] = street['Month'].apply(lambda x: datetime.strptime(x, \"%Y-%m\"))\n",
    "\n",
    "street.head()\n"
   ]
  },
  {
   "cell_type": "code",
   "execution_count": null,
   "metadata": {},
   "outputs": [],
   "source": [
    "# %load https://raw.githubusercontent.com/IBMDeveloperUK/python-geopandas-workshop/master/answers/answer2.py\n",
    "bystreet = street.groupby(['Location','Crime type']).count()\n",
    "bystreet = bystreet.drop(columns=['Month', 'Last outcome category','coordinates','LSOA code'])\n",
    "bystreet = bystreet.rename(index=str, columns={\"Crime ID\": \"Number of crimes\"})\n",
    "\n",
    "bystreet.sort_values(by=['Number of crimes'], ascending=False).head()\n"
   ]
  },
  {
   "cell_type": "code",
   "execution_count": null,
   "metadata": {},
   "outputs": [],
   "source": [
    "# %load https://raw.githubusercontent.com/IBMDeveloperUK/python-geopandas-workshop/master/answers/answer3.py"
   ]
  },
  {
   "cell_type": "code",
   "execution_count": null,
   "metadata": {},
   "outputs": [],
   "source": [
    "# %load https://raw.githubusercontent.com/IBMDeveloperUK/python-geopandas-workshop/master/answers/answer4.py"
   ]
  },
  {
   "cell_type": "code",
   "execution_count": null,
   "metadata": {},
   "outputs": [],
   "source": [
    "# %load https://raw.githubusercontent.com/IBMDeveloperUK/python-geopandas-workshop/master/answers/answer5.py"
   ]
  },
  {
   "cell_type": "markdown",
   "metadata": {},
   "source": [
    "Some things we noticed:\n",
    "* The number of stop and searches seems to go up. That is something you could investigate further. Is any of the categories increasing? \n",
    "* Another interesting question is how the object of search and the outcome are related. Are there types of searches where nothing is found more frequently? \n",
    "* In the original files there are also columns of gender, age range and ethnicity. If you want to explore this further you can change the code and re-process the data from this [notebook](https://github.com/IBMDeveloperUK/geopandas-workshop/blob/master/notebooks/prepare-uk-crime-data.ipynb) and use the full dataset.\n",
    "* And how could you combine the two datasets?\n",
    "\n",
    "### Spatial join\n",
    "\n",
    "> The below solution was found [here](https://gis.stackexchange.com/questions/306674/geopandas-spatial-join-and-count) after googling for 'geopandas count points in polygon'\n",
    "\n",
    "The coordinate system (`crs`) needs to be the same for both GeoDataFrames. "
   ]
  },
  {
   "cell_type": "code",
   "execution_count": null,
   "metadata": {},
   "outputs": [],
   "source": [
    "print(boroughs.crs)\n",
    "print(stop_search.crs)"
   ]
  },
  {
   "cell_type": "markdown",
   "metadata": {},
   "source": [
    "Add a borough to each point with a spatial join. This will add the `geometry` and other columns from `boroughs2` to the points in `stop_search`. "
   ]
  },
  {
   "cell_type": "code",
   "execution_count": null,
   "metadata": {},
   "outputs": [],
   "source": [
    "stop_search.crs = boroughs.crs\n",
    "dfsjoin = gpd.sjoin(boroughs,stop_search) \n",
    "dfsjoin.head()"
   ]
  },
  {
   "cell_type": "markdown",
   "metadata": {},
   "source": [
    "Then aggregate this table by creating a [pivot table](https://jakevdp.github.io/PythonDataScienceHandbook/03.09-pivot-tables.html) where for each borough the number of  categories in `Object of search` are counted. Then drop the pivot level and remove the index, so you can merge this new table back into the `boroughs2` DataFrame."
   ]
  },
  {
   "cell_type": "code",
   "execution_count": null,
   "metadata": {},
   "outputs": [],
   "source": [
    "dfpivot = pd.pivot_table(dfsjoin,index='id',columns='Object of search',aggfunc={'Object of search':'count'})\n",
    "dfpivot.columns = dfpivot.columns.droplevel()\n",
    "dfpivot = dfpivot.reset_index()\n",
    "dfpivot.head()"
   ]
  },
  {
   "cell_type": "code",
   "execution_count": null,
   "metadata": {},
   "outputs": [],
   "source": [
    "boroughs3 = boroughs.merge(dfpivot, how='left',on='id')\n",
    "boroughs3.head()"
   ]
  },
  {
   "cell_type": "markdown",
   "metadata": {},
   "source": [
    "Let's make some maps!"
   ]
  },
  {
   "cell_type": "code",
   "execution_count": null,
   "metadata": {},
   "outputs": [],
   "source": [
    "fig, axs = plt.subplots(1, 2, figsize=(20,5))\n",
    "\n",
    "p1=boroughs3.plot(column='Controlled drugs',ax=axs[0],cmap='Blues',legend=True);\n",
    "axs[0].set_title('Controlled drugs', fontdict={'fontsize': '12', 'fontweight' : '5'});\n",
    "\n",
    "p2=boroughs3.plot(column='Stolen goods',ax=axs[1], cmap='Reds',legend=True);\n",
    "axs[1].set_title('Stolen goods', fontdict={'fontsize': '12', 'fontweight' : '5'});\n"
   ]
  },
  {
   "cell_type": "markdown",
   "metadata": {},
   "source": [
    "<div class=\"alert alert-success\">\n",
    " <b>EXERCISE</b> <br/> \n",
    " Explore the data with GeoPandas. Again there are no right or wrong answers, the questions below give you some suggestions at what to look at. <br/> \n",
    "   <ul>\n",
    "  <li>Improve the above maps. How many arrests are there in each borough? Use the above method but first select only the arrests using the column 'Outcome'. Can you plot this? </li>\n",
    "  <li>Are there changes over time? Is there a difference between months? Use `street` and look at Westminster or another borough where the crime rate seems higher. </li>    \n",
    "  </ul> \n",
    "</div>  "
   ]
  },
  {
   "cell_type": "code",
   "execution_count": null,
   "metadata": {},
   "outputs": [],
   "source": [
    "# your data exploration (add as many cells as you need)\n"
   ]
  },
  {
   "cell_type": "code",
   "execution_count": null,
   "metadata": {},
   "outputs": [],
   "source": []
  },
  {
   "cell_type": "code",
   "execution_count": null,
   "metadata": {},
   "outputs": [],
   "source": [
    "# %load https://raw.githubusercontent.com/IBMDeveloperUK/python-geopandas-workshop/master/answers/answer6.py"
   ]
  },
  {
   "cell_type": "code",
   "execution_count": null,
   "metadata": {},
   "outputs": [],
   "source": [
    "# %load https://raw.githubusercontent.com/IBMDeveloperUK/python-geopandas-workshop/master/answers/answer7.py"
   ]
  },
  {
   "cell_type": "markdown",
   "metadata": {},
   "source": [
    "<a id=\"osm\"></a>\n",
    "## 5. OSM data\n",
    "\n",
    "The Open Street Map data is also pre-processed in this [notebook]() so it is easier to read into this notebook. \n",
    "\n",
    "Data is downloaded from http://download.geofabrik.de/europe/great-britain.html and more details decription of the data is [here](http://download.geofabrik.de/osm-data-in-gis-formats-free.pdf).\n",
    "\n",
    "<a id=\"load3\"></a>\n",
    "### 5.1. Load data"
   ]
  },
  {
   "cell_type": "code",
   "execution_count": null,
   "metadata": {},
   "outputs": [],
   "source": [
    "download_file_to_local('london_inner_pois.zip', project=project)\n",
    "pois = gpd.read_file(\"zip://./london_inner_pois.zip\")\n",
    "pois.head()"
   ]
  },
  {
   "cell_type": "markdown",
   "metadata": {},
   "source": [
    "<a id=\"explore3\"></a>\n",
    "### 5.2. Explore data"
   ]
  },
  {
   "cell_type": "code",
   "execution_count": null,
   "metadata": {},
   "outputs": [],
   "source": [
    "pois.size"
   ]
  },
  {
   "cell_type": "code",
   "execution_count": null,
   "metadata": {},
   "outputs": [],
   "source": [
    "pois['fclass'].unique()"
   ]
  },
  {
   "cell_type": "markdown",
   "metadata": {},
   "source": [
    "Count and plot the number of pubs by borough:"
   ]
  },
  {
   "cell_type": "code",
   "execution_count": null,
   "metadata": {},
   "outputs": [],
   "source": [
    "pubs = pois[pois['fclass']=='pub']\n",
    "\n",
    "pubs2 = gpd.sjoin(boroughs,pubs) \n",
    "pubs3 = pd.pivot_table(pubs2,index='id',columns='fclass',aggfunc={'fclass':'count'})\n",
    "pubs3.columns = pubs3.columns.droplevel()\n",
    "pubs3 = pubs3.reset_index()\n",
    "boroughs5 = boroughs.merge(pubs3, left_on='id',right_on='id')\n",
    "\n",
    "boroughs5.plot(column='pub',cmap='Blues',legend=True);"
   ]
  },
  {
   "cell_type": "markdown",
   "metadata": {},
   "source": [
    "<div class=\"alert alert-success\">\n",
    " <b>EXERCISE</b> <br/> \n",
    " Explore the data further. Again there are no right or wrong answers, the questions below give you some suggestions at what to look at. <br/> \n",
    "   <ul>\n",
    "  <li> Is there a category of POIs that relates to the number of crimes? You might have to aggregate the data on a different more detailed level for this one. </li>\n",
    "  <li> Can you find if there is a category of POIs that related to the number of crimes?  </li>\n",
    "  <li> Count the number of crimes around a certain POI. Choose a point and use the buffer function from the top of the notebook. But note that the crimes are anonymised, so the exact location is not given, only an approximation.  </li>\n",
    "       \n",
    "  </ul> \n",
    "</div>  "
   ]
  },
  {
   "cell_type": "code",
   "execution_count": null,
   "metadata": {},
   "outputs": [],
   "source": [
    "# answers\n"
   ]
  },
  {
   "cell_type": "markdown",
   "metadata": {},
   "source": [
    "Hopefully you got an idea of the possibilities with geospatial data now. There is a lot more to explore with this data. Let us know if you find anything interesting! We are on Twitter as @MargrietGr and @yaminigrao"
   ]
  },
  {
   "cell_type": "markdown",
   "metadata": {},
   "source": [
    "#### Author \n",
    "\n",
    "Margriet Groenendijk is a Data & AI Developer Advocate for IBM. She develops and presents talks and workshops about data science and AI. She is active in the local developer communities through attending, presenting and organising meetups and conferences. She has a background in climate science where she explored large observational datasets of carbon uptake by forests during her PhD, and global scale weather and climate models as a postdoctoral fellow. "
   ]
  },
  {
   "cell_type": "markdown",
   "metadata": {},
   "source": [
    "\n",
    "\n",
    "\n",
    "Copyright © 2019 IBM. This notebook and its source code are released under the terms of the MIT License."
   ]
  }
 ],
 "metadata": {
  "kernelspec": {
   "display_name": "Python 3",
   "language": "python",
   "name": "python3"
  },
  "language_info": {
   "codemirror_mode": {
    "name": "ipython",
    "version": 3
   },
   "file_extension": ".py",
   "mimetype": "text/x-python",
   "name": "python",
   "nbconvert_exporter": "python",
   "pygments_lexer": "ipython3",
   "version": "3.7.6"
  }
 },
 "nbformat": 4,
 "nbformat_minor": 1
}
