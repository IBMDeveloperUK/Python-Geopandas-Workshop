{
 "cells": [
  {
   "cell_type": "markdown",
   "metadata": {},
   "source": [
    "# Explore UK Crime Data with Pandas and GeoPandas\n",
    "\n",
    "\n",
    "## Table of Contents\n",
    "\n",
    "1. [London boroughs](#boroughs)<br>\n",
    "2. [Crime data](#crime)<br>\n",
    "    2.1. [Load data](#load2)<br>\n",
    "    2.2. [Explore data](#explore2)<br>"
   ]
  },
  {
   "cell_type": "markdown",
   "metadata": {},
   "source": [
    "<div class=\"alert alert-danger\" style=\"font-size:100%\">\n",
    "When you are using <b>Watson Studio</b> to run the workshop you will need to add the project token to your notebook that you created earlier to be able to access the shape files. \n",
    "\n",
    "* Click the 3 dots at the top of the notebook to insert the project token. This will create a new cell in the notebook that you will need to run first before continuing with the rest of the notebook. If you are sharing this notebook you should remove this cell, else anyone can use you Cloud Object Storage from this project.\n",
    "\n",
    "If you cannot find the new cell it is probably at the top of this notebook. Scroll up, run the cell and continue with the rest of the notebook.\n",
    "\n",
    "* Also add the following files from [this GitHub repo](https://github.com/IBMDeveloperUK/Python-Geopandas-Workshop/tree/master/data) to your Cloud Object Store (click the 1010 button at the top right if you do not see the menu on the right of the notebook):\n",
    "    - 2018-1-metropolitan-street.zip\n",
    "    - 2018-2-metropolitan-street.zip\n",
    "    - 2018-metropolitan-stop-and-search.zip\n",
    "* And run the following cell with the helper function\n",
    "\n",
    "</div> "
   ]
  },
  {
   "cell_type": "markdown",
   "metadata": {},
   "source": [
    "### Installing geopandas\n",
    "\n",
    "geopandas has many dependencies with other packages, so be careful!\n",
    "\n",
    "* [geopandas installation instructions](https://geopandas.readthedocs.io/en/latest/getting_started/install.html)\n",
    "* [geoplot installation instructions](https://residentmario.github.io/geoplot/installation.html)"
   ]
  },
  {
   "cell_type": "code",
   "execution_count": null,
   "metadata": {},
   "outputs": [],
   "source": [
    "!time conda install --freeze-installed mapclassify descartes geopandas"
   ]
  },
  {
   "cell_type": "code",
   "execution_count": null,
   "metadata": {},
   "outputs": [],
   "source": [
    "!time pip install geoplot"
   ]
  },
  {
   "cell_type": "code",
   "execution_count": null,
   "metadata": {},
   "outputs": [],
   "source": [
    "import requests\n",
    "import numpy as np\n",
    "import pandas as pd\n",
    "import geopandas as gpd\n",
    "import geoplot \n",
    "from shapely.geometry import Point, LineString, Polygon\n",
    "import matplotlib.pyplot as plt\n",
    "from datetime import datetime\n",
    "\n",
    "%matplotlib inline"
   ]
  },
  {
   "cell_type": "code",
   "execution_count": null,
   "metadata": {},
   "outputs": [],
   "source": [
    "# define the helper function \n",
    "def download_file_to_local(project_filename, local_file_destination=None, project=None):\n",
    "    \"\"\"\n",
    "    Uses project-lib to get a bytearray and then downloads this file to local.\n",
    "    Requires a valid `project` object.\n",
    "    \n",
    "    Args:\n",
    "        project_filename str: the filename to be passed to get_file\n",
    "        local_file_destination: the filename for the local file if different\n",
    "        \n",
    "    Returns:\n",
    "        0 if everything worked\n",
    "    \"\"\"\n",
    "    \n",
    "    project = project\n",
    "    \n",
    "    # get the file\n",
    "    print(\"Attempting to get file {}\".format(project_filename))\n",
    "    _bytes = project.get_file(project_filename).read()\n",
    "    \n",
    "    # check for new file name, download the file\n",
    "    print(\"Downloading...\")\n",
    "    if local_file_destination==None: local_file_destination = project_filename\n",
    "    \n",
    "    with open(local_file_destination, 'wb') as f: \n",
    "        f.write(bytearray(_bytes))\n",
    "        print(\"Completed writing to {}\".format(local_file_destination))\n",
    "        \n",
    "    return 0"
   ]
  },
  {
   "cell_type": "markdown",
   "metadata": {},
   "source": [
    "<a id=\"boroughs\"></a>\n",
    "## 1. London boroughs"
   ]
  },
  {
   "cell_type": "code",
   "execution_count": null,
   "metadata": {},
   "outputs": [],
   "source": [
    "# load data from a url\n",
    "boroughs = gpd.read_file(\"https://skgrange.github.io/www/data/london_boroughs.json\")"
   ]
  },
  {
   "cell_type": "code",
   "execution_count": null,
   "metadata": {},
   "outputs": [],
   "source": [
    "boroughs.head()"
   ]
  },
  {
   "cell_type": "code",
   "execution_count": null,
   "metadata": {},
   "outputs": [],
   "source": [
    "boroughs.plot(column='area_hectares');"
   ]
  },
  {
   "cell_type": "code",
   "execution_count": null,
   "metadata": {},
   "outputs": [],
   "source": [
    "boroughs['all'] = 1\n",
    "allboroughs = boroughs.dissolve(by='all',aggfunc='sum')\n",
    "allboroughs.plot();"
   ]
  },
  {
   "cell_type": "code",
   "execution_count": null,
   "metadata": {},
   "outputs": [],
   "source": [
    "df = pd.read_csv('https://raw.githubusercontent.com/IBMDeveloperUK/crime-data-workshop/master/data/london-borough-profiles.csv',encoding = 'unicode_escape')\n",
    "df.head()"
   ]
  },
  {
   "cell_type": "code",
   "execution_count": null,
   "metadata": {},
   "outputs": [],
   "source": [
    "boroughs = boroughs.set_index('code').join(df.set_index('Code'))\n",
    "boroughs.head()"
   ]
  },
  {
   "cell_type": "code",
   "execution_count": null,
   "metadata": {},
   "outputs": [],
   "source": [
    "boroughs.plot(column='Proportion_of_seats_won_by_Conservatives_in_2014_election', cmap='Blues');"
   ]
  },
  {
   "cell_type": "code",
   "execution_count": null,
   "metadata": {},
   "outputs": [],
   "source": [
    "boroughs.plot(column='Proportion_of_seats_won_by_Labour_in_2014_election', cmap='Reds');"
   ]
  },
  {
   "cell_type": "code",
   "execution_count": null,
   "metadata": {},
   "outputs": [],
   "source": [
    "boroughs['paygap'] = \\\n",
    "    ((boroughs['Gross_Annual_Pay_-_Male_(2016)'] - boroughs['Gross_Annual_Pay_-_Female_(2016)'])/ \\\n",
    "    boroughs['Gross_Annual_Pay_-_Male_(2016)']) * 100\n",
    "\n",
    "[fig,ax] = plt.subplots(1, figsize=(12, 8))\n",
    "\n",
    "boroughs.plot(ax=ax, color=\"lightgrey\", edgecolor='black', linewidth=0.5)\n",
    "\n",
    "boroughs.dropna().plot(column='paygap', cmap='Reds', edgecolor='black', linewidth=0.5,\n",
    "               legend=True, ax=ax, scheme='equal_interval');\n",
    "ax.axis('off');\n",
    "ax.set_title('Gender pay gap in London (2016)');\n"
   ]
  },
  {
   "cell_type": "markdown",
   "metadata": {},
   "source": [
    "<a id=\"crime\"></a>\n",
    "## 2. Crime data\n",
    "\n",
    "#### Using the API\n",
    "\n",
    "[A list of all available data sets](https://data.police.uk/docs/method/crimes-street-dates/)"
   ]
  },
  {
   "cell_type": "code",
   "execution_count": null,
   "metadata": {},
   "outputs": [],
   "source": [
    "data_list = requests.get('https://data.police.uk/api/crimes-street-dates')  \n",
    "print(data_list.status_code)"
   ]
  },
  {
   "cell_type": "code",
   "execution_count": null,
   "metadata": {},
   "outputs": [],
   "source": [
    "data_list_json = data_list.json() \n",
    "data_list_df = pd.json_normalize(data_list_json)\n",
    "data_list_df.head()"
   ]
  },
  {
   "cell_type": "code",
   "execution_count": null,
   "metadata": {},
   "outputs": [],
   "source": [
    "# months with data\n",
    "data_months = data_list_df['date'].unique()\n",
    "print(np.sort(data_months))"
   ]
  },
  {
   "cell_type": "code",
   "execution_count": null,
   "metadata": {},
   "outputs": [],
   "source": [
    "# force IDs\n",
    "force_IDs = data_list_df['stop-and-search'][0]\n",
    "print(force_IDs)"
   ]
  },
  {
   "cell_type": "markdown",
   "metadata": {},
   "source": [
    "<a id=\"load2\"></a>\n",
    "### 2.1. Load data\n",
    "\n",
    "The rest of the API does not seem to work, so I downloaded all [latest data](https://data.police.uk/data/archive/latest.zip) from [here](https://data.police.uk/about/) (21GB!).\n",
    "\n",
    "The crime data is pre-processed in this [notebook](https://github.com/IBMDeveloperUK/foss4g-geopandas/blob/master/notebooks/prepare-uk-crime-data.ipynb) so it is easier to read here. We will only look at data from 2018. But feel free to also load the data from 2017 that is also provided in repository. Or adapt the pre-processing notebook to explore even more data.\n",
    "\n",
    "This dataset cannot be loaded into a geoDataFrame directly. Instead the data is loaded into a DataFrame and then converted:"
   ]
  },
  {
   "cell_type": "code",
   "execution_count": null,
   "metadata": {},
   "outputs": [],
   "source": [
    "download_file_to_local('2018-1-metropolitan-street.zip', project=project)\n",
    "download_file_to_local('2018-2-metropolitan-street.zip', project=project)\n",
    "street = pd.read_csv(\"./2018-1-metropolitan-street.zip\")\n",
    "street2 = pd.read_csv(\"./2018-2-metropolitan-street.zip\")\n",
    "street = street.append(street2) \n",
    "\n",
    "download_file_to_local('2018-metropolitan-stop-and-search.zip', project=project)\n",
    "stop_search = pd.read_csv(\"./2018-metropolitan-stop-and-search.zip\")"
   ]
  },
  {
   "cell_type": "code",
   "execution_count": null,
   "metadata": {},
   "outputs": [],
   "source": [
    "# convert Month to datetime\n",
    "street['Month'] = pd.to_datetime(street['Month'], format='%Y-%m')\n",
    "\n",
    "street.head()"
   ]
  },
  {
   "cell_type": "code",
   "execution_count": null,
   "metadata": {},
   "outputs": [],
   "source": [
    "# drop columns with same value for all rows\n",
    "stop_search = stop_search.drop(columns=['Policing operation', 'Part of a policing operation'])\n",
    "\n",
    "stop_search['Date'] = pd.to_datetime(stop_search['Date'], format='%Y-%m-%dT%H:%M:%S')\n",
    "stop_search['Year'] = stop_search['Date'].dt.year\n",
    "stop_search['Month'] = pd.to_datetime(stop_search['Date']).dt.to_period('M')\n",
    "\n",
    "stop_search.head()"
   ]
  },
  {
   "cell_type": "markdown",
   "metadata": {},
   "source": [
    "#### Convert to geoDataFrames"
   ]
  },
  {
   "cell_type": "code",
   "execution_count": null,
   "metadata": {},
   "outputs": [],
   "source": [
    "street['coordinates'] = list(zip(street.Longitude, street.Latitude))\n",
    "street['coordinates'] = street['coordinates'].apply(Point)\n",
    "street = gpd.GeoDataFrame(street, geometry='coordinates')\n",
    "street.head()"
   ]
  },
  {
   "cell_type": "code",
   "execution_count": null,
   "metadata": {},
   "outputs": [],
   "source": [
    "stop_search['coordinates'] = list(zip(stop_search.Longitude, stop_search.Latitude))\n",
    "stop_search['coordinates'] = stop_search['coordinates'].apply(Point)\n",
    "stop_search = gpd.GeoDataFrame(stop_search, geometry='coordinates')\n",
    "stop_search.head()"
   ]
  },
  {
   "cell_type": "markdown",
   "metadata": {},
   "source": [
    "<a id=\"explore2\"></a>\n",
    "### 5.2. Explore data\n"
   ]
  },
  {
   "cell_type": "code",
   "execution_count": null,
   "metadata": {},
   "outputs": [],
   "source": [
    "# number of data points\n",
    "print ('rows in street: '+str(len(street)))\n",
    "\n",
    "# columns \n",
    "print ('Columns: '+str(street.columns))"
   ]
  },
  {
   "cell_type": "code",
   "execution_count": null,
   "metadata": {},
   "outputs": [],
   "source": [
    "print(street['Crime type'].unique())"
   ]
  },
  {
   "cell_type": "code",
   "execution_count": null,
   "metadata": {},
   "outputs": [],
   "source": [
    "print(street['Last outcome category'].unique())"
   ]
  },
  {
   "cell_type": "code",
   "execution_count": null,
   "metadata": {},
   "outputs": [],
   "source": [
    "fig = plt.figure();\n",
    "street['Crime type'].groupby(street['Crime type']).count().plot.barh(figsize=(14,8));\n",
    "plt.ylabel(None);"
   ]
  },
  {
   "cell_type": "code",
   "execution_count": null,
   "metadata": {},
   "outputs": [],
   "source": [
    "fig = plt.figure();\n",
    "street['Crime type'].groupby(street['Month']).count().plot(figsize=(14,6));"
   ]
  },
  {
   "cell_type": "code",
   "execution_count": null,
   "metadata": {},
   "outputs": [],
   "source": [
    "# group by crime type\n",
    "street_type = street.groupby(['Month','Crime type'])['Location'].count().unstack(fill_value=0)\n",
    "street_type.head()"
   ]
  },
  {
   "cell_type": "code",
   "execution_count": null,
   "metadata": {},
   "outputs": [],
   "source": [
    "fig = plt.figure();\n",
    "street_type.plot(figsize=(14,6));\n",
    "plt.ylabel('arrests / month', fontsize=16);\n",
    "plt.xlabel(None);\n",
    "plt.legend(bbox_to_anchor=(1.02, 1.0));"
   ]
  },
  {
   "cell_type": "code",
   "execution_count": null,
   "metadata": {},
   "outputs": [],
   "source": [
    "# number of data points\n",
    "print ('rows in stop_search: '+str(len(stop_search)))"
   ]
  },
  {
   "cell_type": "code",
   "execution_count": null,
   "metadata": {},
   "outputs": [],
   "source": [
    "# columns \n",
    "print ('Columns: '+str(stop_search.columns))"
   ]
  },
  {
   "cell_type": "code",
   "execution_count": null,
   "metadata": {},
   "outputs": [],
   "source": [
    "# categories\n",
    "print ('Legislation: '+str(stop_search['Legislation'].unique()))\n",
    "print ('Object of search: '+str(stop_search['Object of search'].unique()))\n",
    "print ('Outcome: '+str(stop_search['Outcome'].unique()))"
   ]
  },
  {
   "cell_type": "code",
   "execution_count": null,
   "metadata": {},
   "outputs": [],
   "source": [
    "fig, (ax1, ax2, ax3) = plt.subplots(1, 3, figsize=(20,5))\n",
    "\n",
    "stop_search['Object of search'].groupby(stop_search['Object of search']).count().plot.bar(ax=ax1);\n",
    "\n",
    "stop_search['Outcome'].groupby(stop_search['Outcome']).count().plot.bar(ax=ax2);\n",
    "\n",
    "stop_search['Month'] = stop_search.Date.dt.to_period(\"M\")\n",
    "stop_search['Object of search'].groupby(stop_search['Month']).count().plot(ax=ax3);\n"
   ]
  },
  {
   "cell_type": "markdown",
   "metadata": {},
   "source": [
    "### Spatial join\n",
    "\n",
    "> The below solution was found [here](https://gis.stackexchange.com/questions/306674/geopandas-spatial-join-and-count) after googling for 'geopandas count points in polygon'\n",
    "\n",
    "The `crs` needs to be the same for both GeoDataFrames. "
   ]
  },
  {
   "cell_type": "code",
   "execution_count": null,
   "metadata": {},
   "outputs": [],
   "source": [
    "print(boroughs.crs)\n",
    "print(stop_search.crs)"
   ]
  },
  {
   "cell_type": "markdown",
   "metadata": {},
   "source": [
    "Add a borough to each point with a spatial join. This will add the `geometry` and other columns from `boroughs2` to the points in `stop_search`. "
   ]
  },
  {
   "cell_type": "code",
   "execution_count": null,
   "metadata": {},
   "outputs": [],
   "source": [
    "stop_search.crs = boroughs.crs\n",
    "dfsjoin = gpd.sjoin(boroughs,stop_search) \n",
    "dfsjoin.head()"
   ]
  },
  {
   "cell_type": "markdown",
   "metadata": {},
   "source": [
    "Then aggregate this table by creating a [pivot table](https://jakevdp.github.io/PythonDataScienceHandbook/03.09-pivot-tables.html) where for each borough the number of types each of the categories in `Object of search` are counted. Then drop the pivot level and remove the index, so you can merge this new table back into the `boroughs2` DataFrame."
   ]
  },
  {
   "cell_type": "code",
   "execution_count": null,
   "metadata": {},
   "outputs": [],
   "source": [
    "dfpivot = pd.pivot_table(dfsjoin,index='id',columns='Object of search',aggfunc={'Object of search':'count'})\n",
    "dfpivot.columns = dfpivot.columns.droplevel()\n",
    "dfpivot = dfpivot.reset_index()\n",
    "dfpivot.head()"
   ]
  },
  {
   "cell_type": "code",
   "execution_count": null,
   "metadata": {},
   "outputs": [],
   "source": [
    "boroughs2 = boroughs.merge(dfpivot, how='left',on='id')\n",
    "boroughs2.head()"
   ]
  },
  {
   "cell_type": "markdown",
   "metadata": {},
   "source": [
    "Let's make some maps!"
   ]
  },
  {
   "cell_type": "code",
   "execution_count": null,
   "metadata": {},
   "outputs": [],
   "source": [
    "fig, axs = plt.subplots(1, 2, figsize=(20,5))\n",
    "\n",
    "p1=boroughs2.plot(column='Controlled drugs',ax=axs[0],cmap='Blues',legend=True);\n",
    "axs[0].set_title('Controlled drugs', fontdict={'fontsize': '12', 'fontweight' : '5'});\n",
    "\n",
    "p2=boroughs2.plot(column='Stolen goods',ax=axs[1], cmap='Reds',legend=True);\n",
    "axs[1].set_title('Stolen goods', fontdict={'fontsize': '12', 'fontweight' : '5'});\n"
   ]
  },
  {
   "cell_type": "code",
   "execution_count": null,
   "metadata": {},
   "outputs": [],
   "source": [
    "dfsjoin2 = gpd.sjoin(boroughs,stop_search[stop_search['Outcome'] == 'Arrest']) \n",
    "dfpivot2 = pd.pivot_table(dfsjoin2,index='id',columns='Object of search',aggfunc={'Object of search':'count'})\n",
    "dfpivot2.columns = dfpivot2.columns.droplevel()\n",
    "dfpivot2 = dfpivot2.reset_index()\n",
    "boroughs3 = boroughs.merge(dfpivot2, how='left',on='id')\n",
    "boroughs3.head()"
   ]
  },
  {
   "cell_type": "code",
   "execution_count": null,
   "metadata": {},
   "outputs": [],
   "source": [
    "fig, axs = plt.subplots(1, 2, figsize=(20,5))\n",
    "\n",
    "p1=boroughs3.plot(column='Controlled drugs',ax=axs[0],cmap='Blues',legend=True);\n",
    "p2=boroughs3.plot(column='Stolen goods',ax=axs[1], cmap='Reds',legend=True);\n",
    "\n",
    "axs[0].set_title('Controlled drugs', fontdict={'fontsize': '12', 'fontweight' : '5'});\n",
    "axs[1].set_title('Stolen goods', fontdict={'fontsize': '12', 'fontweight' : '5'});"
   ]
  },
  {
   "cell_type": "markdown",
   "metadata": {},
   "source": [
    "Copyright © 2019-2020 IBM. This notebook and its source code are released under the terms of the MIT License."
   ]
  },
  {
   "cell_type": "code",
   "execution_count": null,
   "metadata": {},
   "outputs": [],
   "source": []
  }
 ],
 "metadata": {
  "kernelspec": {
   "display_name": "Python 3.7",
   "language": "python",
   "name": "python3"
  },
  "language_info": {
   "codemirror_mode": {
    "name": "ipython",
    "version": 3
   },
   "file_extension": ".py",
   "mimetype": "text/x-python",
   "name": "python",
   "nbconvert_exporter": "python",
   "pygments_lexer": "ipython3",
   "version": "3.7.7"
  }
 },
 "nbformat": 4,
 "nbformat_minor": 1
}
