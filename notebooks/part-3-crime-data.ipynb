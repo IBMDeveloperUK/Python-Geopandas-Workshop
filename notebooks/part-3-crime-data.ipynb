{
 "cells": [
  {
   "cell_type": "markdown",
   "metadata": {},
   "source": [
    "# Explore UK Crime Data with Pandas and GeoPandas\n",
    "\n",
    "\n",
    "## Table of Contents\n",
    "\n",
    "1. [London boroughs](#boroughs)<br>\n",
    "2. [Crime data](#crime)<br>\n",
    "    2.1. [Load data](#load2)<br>\n",
    "    2.2. [Explore data](#explore2)<br>"
   ]
  },
  {
   "cell_type": "code",
   "execution_count": null,
   "metadata": {},
   "outputs": [],
   "source": [
    "import pandas as pd\n",
    "import geopandas as gpd\n",
    "import geoplot \n",
    "from shapely.geometry import Point, LineString, Polygon\n",
    "import matplotlib.pyplot as plt\n",
    "from datetime import datetime\n",
    "\n",
    "%matplotlib inline"
   ]
  },
  {
   "cell_type": "markdown",
   "metadata": {},
   "source": [
    "<div class=\"alert alert-danger\" style=\"font-size:100%\">\n",
    "When you are using <b>Watson Studio</b> to run the workshop you will need to add the project token to your notebook that you created earlier to be able to access the shape files. \n",
    "\n",
    "* Click the 3 dots at the top of the notebook to insert the project token. This will create a new cell in the notebook that you will need to run first before continuing with the rest of the notebook. If you are sharing this notebook you should remove this cell, else anyone can use you Cloud Object Storage from this project.\n",
    "\n",
    "If you cannot find the new cell it is probably at the top of this notebook. Scroll up, run the cell and continue with the rest of the notebook.\n",
    "\n",
    "* Also add the following files to your Cloud Object Store (click the 1010 button at the top right if you do not see the menu on the right of the notebook):\n",
    "    - 2018-1-metropolitan-street.zip\n",
    "    - 2018-2-metropolitan-street.zip\n",
    "    - 2018-metropolitan-stop-and-search.zip\n",
    "* And run the following cell with the helper function\n",
    "\n",
    "</div> "
   ]
  },
  {
   "cell_type": "code",
   "execution_count": null,
   "metadata": {},
   "outputs": [],
   "source": [
    "# define the helper function \n",
    "def download_file_to_local(project_filename, local_file_destination=None, project=None):\n",
    "    \"\"\"\n",
    "    Uses project-lib to get a bytearray and then downloads this file to local.\n",
    "    Requires a valid `project` object.\n",
    "    \n",
    "    Args:\n",
    "        project_filename str: the filename to be passed to get_file\n",
    "        local_file_destination: the filename for the local file if different\n",
    "        \n",
    "    Returns:\n",
    "        0 if everything worked\n",
    "    \"\"\"\n",
    "    \n",
    "    project = project\n",
    "    \n",
    "    # get the file\n",
    "    print(\"Attempting to get file {}\".format(project_filename))\n",
    "    _bytes = project.get_file(project_filename).read()\n",
    "    \n",
    "    # check for new file name, download the file\n",
    "    print(\"Downloading...\")\n",
    "    if local_file_destination==None: local_file_destination = project_filename\n",
    "    \n",
    "    with open(local_file_destination, 'wb') as f: \n",
    "        f.write(bytearray(_bytes))\n",
    "        print(\"Completed writing to {}\".format(local_file_destination))\n",
    "        \n",
    "    return 0"
   ]
  },
  {
   "cell_type": "markdown",
   "metadata": {},
   "source": [
    "<a id=\"boroughs\"></a>\n",
    "## 1. London boroughs"
   ]
  },
  {
   "cell_type": "code",
   "execution_count": null,
   "metadata": {},
   "outputs": [],
   "source": [
    "# load data from a url\n",
    "boroughs = gpd.read_file(\"https://skgrange.github.io/www/data/london_boroughs.json\")"
   ]
  },
  {
   "cell_type": "code",
   "execution_count": null,
   "metadata": {},
   "outputs": [],
   "source": [
    "boroughs.head()"
   ]
  },
  {
   "cell_type": "markdown",
   "metadata": {},
   "source": [
    "<a id=\"crime\"></a>\n",
    "## 2. Crime data\n",
    "\n",
    "The crime data is pre-processed in this [notebook](https://github.com/IBMDeveloperUK/foss4g-geopandas/blob/master/notebooks/prepare-uk-crime-data.ipynb) so it is easier to read here. We will only look at data from 2018. But feel free to also load the data from 2017 that is also provided in repository. Or adapt the pre-processing notebook to explore even more data.\n",
    "\n",
    "Data is downloaded from https://data.police.uk/ ([License](https://www.nationalarchives.gov.uk/doc/open-government-licence/version/3/))\n",
    "\n",
    "<a id=\"load2\"></a>\n",
    "### 2.1. Load data\n",
    "\n",
    "This dataset cannot be loaded into a geoDataFrame directly. Instead the data is loaded into a DataFrame and then converted:"
   ]
  },
  {
   "cell_type": "code",
   "execution_count": null,
   "metadata": {},
   "outputs": [],
   "source": [
    "download_file_to_local('2018-1-metropolitan-street.zip', project=project)\n",
    "download_file_to_local('2018-2-metropolitan-street.zip', project=project)\n",
    "street = pd.read_csv(\"./2018-1-metropolitan-street.zip\")\n",
    "street2 = pd.read_csv(\"./2018-2-metropolitan-street.zip\")\n",
    "street = street.append(street2) \n",
    "\n",
    "download_file_to_local('2018-metropolitan-stop-and-search.zip', project=project)\n",
    "stop_search = pd.read_csv(\"./2018-metropolitan-stop-and-search.zip\")"
   ]
  },
  {
   "cell_type": "code",
   "execution_count": null,
   "metadata": {},
   "outputs": [],
   "source": [
    "street.head()"
   ]
  },
  {
   "cell_type": "code",
   "execution_count": null,
   "metadata": {},
   "outputs": [],
   "source": [
    "stop_search.head()"
   ]
  },
  {
   "cell_type": "markdown",
   "metadata": {},
   "source": [
    "#### Convert to geoDataFrames"
   ]
  },
  {
   "cell_type": "code",
   "execution_count": null,
   "metadata": {},
   "outputs": [],
   "source": [
    "street['coordinates'] = list(zip(street.Longitude, street.Latitude))\n",
    "street['coordinates'] = street['coordinates'].apply(Point)\n",
    "street = gpd.GeoDataFrame(street, geometry='coordinates')\n",
    "street.head()"
   ]
  },
  {
   "cell_type": "code",
   "execution_count": null,
   "metadata": {},
   "outputs": [],
   "source": [
    "stop_search['coordinates'] = list(zip(stop_search.Longitude, stop_search.Latitude))\n",
    "stop_search['coordinates'] = stop_search['coordinates'].apply(Point)\n",
    "stop_search = gpd.GeoDataFrame(stop_search, geometry='coordinates')\n",
    "stop_search.head()"
   ]
  },
  {
   "cell_type": "markdown",
   "metadata": {},
   "source": [
    "<a id=\"explore2\"></a>\n",
    "### 5.2. Explore data\n"
   ]
  },
  {
   "cell_type": "markdown",
   "metadata": {},
   "source": [
    "<div class=\"alert alert-success\">\n",
    " <b>EXERCISES</b> <br/> \n",
    " Explore the data with Pandas. There are no right or wrong answers, the questions below give you some suggestions at what to look at. <br/> \n",
    "\n",
    "Noticed anything odd about the latitudes and longitudes? Read here how the data is anonymised: https://data.police.uk/about/.\n",
    "</div>  "
   ]
  },
  {
   "cell_type": "markdown",
   "metadata": {},
   "source": [
    "<div class=\"alert alert-success\">\n",
    " <b>QUESTION 1 - Explore the street DataFrame</b> <br/> \n",
    "  <ul>\n",
    "  <li>How much data is there?</li>\n",
    "  <li>Are there missing values? Should these rows be deleted?  </li>\n",
    "  <li>Which columns of the datasets contain useful information? What kind of categories are there and are they all meaningful?</li>\n",
    "  <li>Convert the Date to datetime with <font face=\"Courier\">.apply(lambda x: datetime.strptime(x, \"%Y-%m\")</font> </li>     \n",
    "  </ul> \n",
    "</div>  "
   ]
  },
  {
   "cell_type": "code",
   "execution_count": null,
   "metadata": {},
   "outputs": [],
   "source": [
    "# answer 1\n"
   ]
  },
  {
   "cell_type": "code",
   "execution_count": null,
   "metadata": {},
   "outputs": [],
   "source": [
    "# %load https://raw.githubusercontent.com/IBMDeveloperUK/foss4g-geopandas/master/answers/crime_answer1.py\n",
    "# number of data points\n",
    "print ('rows in street: '+str(len(street)))\n",
    "\n",
    "# columns \n",
    "print ('Columns: '+str(street.columns))\n",
    "\n",
    "# categories\n",
    "print ('Crime type: '+str(street['Crime type'].unique()))\n",
    "print ('Last outcome category: '+str(street['Last outcome category'].unique()))\n",
    "print (street['Context'].unique())\n",
    "\n",
    "# delete columns\n",
    "street = street.drop(columns=['Unnamed: 0','Latitude', 'Longitude','Context'])\n",
    "\n",
    "# convert Date to datetime\n",
    "street['Month'] = street['Month'].apply(lambda x: datetime.strptime(x, \"%Y-%m\"))\n",
    "\n",
    "street.head()\n"
   ]
  },
  {
   "cell_type": "markdown",
   "metadata": {},
   "source": [
    "<div class=\"alert alert-success\">\n",
    " <b>QUESTION 2</b> - Which crime type occurs most often? And near which location? <br/> \n",
    "</div> \n",
    "\n",
    "> Hints: use [groupby()](https://pandas.pydata.org/pandas-docs/stable/reference/api/pandas.DataFrame.groupby.html) to summarize the data and [sort_values()](https://pandas.pydata.org/pandas-docs/stable/reference/api/pandas.DataFrame.sort_values.html) to sort the data. "
   ]
  },
  {
   "cell_type": "code",
   "execution_count": null,
   "metadata": {},
   "outputs": [],
   "source": [
    "# answer 2\n"
   ]
  },
  {
   "cell_type": "code",
   "execution_count": null,
   "metadata": {},
   "outputs": [],
   "source": [
    "# %load https://raw.githubusercontent.com/IBMDeveloperUK/foss4g-geopandas/master/answers/crime_answer2.py"
   ]
  },
  {
   "cell_type": "markdown",
   "metadata": {},
   "source": [
    "<div class=\"alert alert-success\">\n",
    " <b>QUESTION 3 - Visualise the street DataFrame: </b> <br/> \n",
    "  <ul>\n",
    "  <li> The total number of crimes per crime type </li>\n",
    "  <li>The total number of crimes per month </li>\n",
    "  </ul> \n",
    "</div> "
   ]
  },
  {
   "cell_type": "code",
   "execution_count": null,
   "metadata": {},
   "outputs": [],
   "source": [
    "# answer 3\n"
   ]
  },
  {
   "cell_type": "code",
   "execution_count": null,
   "metadata": {},
   "outputs": [],
   "source": [
    "# %load https://raw.githubusercontent.com/IBMDeveloperUK/foss4g-geopandas/master/answers/crime_answer3.py"
   ]
  },
  {
   "cell_type": "markdown",
   "metadata": {},
   "source": [
    "<div class=\"alert alert-success\">\n",
    " <b>QUESTION 4 - Explore the stop_search DataFrame</b> <br/> \n",
    "  <ul>\n",
    "  <li>How much data is there?</li>\n",
    "  <li>Are there missing values? Should these rows be deleted?  </li>\n",
    "  <li>Which columns of the datasets contain useful information? What kind of categories are there and are they all meaningful?</li>\n",
    "  <li>Convert the Date to datetime with <font face=\"Courier\">.apply(lambda x: datetime.strptime(x, \"%Y-%m\")</font> </li>     \n",
    "  </ul> \n",
    "</div> "
   ]
  },
  {
   "cell_type": "code",
   "execution_count": null,
   "metadata": {},
   "outputs": [],
   "source": [
    "# answer 4\n"
   ]
  },
  {
   "cell_type": "code",
   "execution_count": null,
   "metadata": {},
   "outputs": [],
   "source": [
    "# %load https://raw.githubusercontent.com/IBMDeveloperUK/foss4g-geopandas/master/answers/crime_answer4.py"
   ]
  },
  {
   "cell_type": "markdown",
   "metadata": {},
   "source": [
    "<div class=\"alert alert-success\">\n",
    " <b>QUESTION 5 - Visualise the stop_search DataFrame: </b> <br/> \n",
    "  <ul>\n",
    "  <li> The total number of stops per object of search </li>\n",
    "  <li> The total number of stops per outcome </li>\n",
    "  <li> The total number of crimes per month (optional: split these out in categories)</li>\n",
    "  </ul> \n",
    "</div>"
   ]
  },
  {
   "cell_type": "code",
   "execution_count": null,
   "metadata": {},
   "outputs": [],
   "source": [
    "# answer 5\n"
   ]
  },
  {
   "cell_type": "code",
   "execution_count": null,
   "metadata": {},
   "outputs": [],
   "source": [
    "# %load https://raw.githubusercontent.com/IBMDeveloperUK/foss4g-geopandas/master/answers/crime_answer5.py"
   ]
  },
  {
   "cell_type": "markdown",
   "metadata": {},
   "source": [
    "### Some observations and ideas to further explore the data\n",
    "\n",
    "* The number of stop and searches seems to go up. That is something you could investigate further. Is any of the categories increasing? \n",
    "* Another interesting question is how the object of search and the outcome are related. Are there types of searches where nothing is found more frequently? \n",
    "* How could you combine the two datasets?\n",
    "\n",
    "### Spatial join\n",
    "\n",
    "> The below solution was found [here](https://gis.stackexchange.com/questions/306674/geopandas-spatial-join-and-count) after googling for 'geopandas count points in polygon'\n",
    "\n",
    "The `crs` needs to be the same for both GeoDataFrames. "
   ]
  },
  {
   "cell_type": "code",
   "execution_count": null,
   "metadata": {},
   "outputs": [],
   "source": [
    "print(boroughs.crs)\n",
    "print(stop_search.crs)"
   ]
  },
  {
   "cell_type": "markdown",
   "metadata": {},
   "source": [
    "Add a borough to each point with a spatial join. This will add the `geometry` and other columns from `boroughs2` to the points in `stop_search`. "
   ]
  },
  {
   "cell_type": "code",
   "execution_count": null,
   "metadata": {},
   "outputs": [],
   "source": [
    "stop_search.crs = boroughs.crs\n",
    "dfsjoin = gpd.sjoin(boroughs,stop_search) \n",
    "dfsjoin.head()"
   ]
  },
  {
   "cell_type": "markdown",
   "metadata": {},
   "source": [
    "Then aggregate this table by creating a [pivot table](https://jakevdp.github.io/PythonDataScienceHandbook/03.09-pivot-tables.html) where for each borough the number of types each of the categories in `Object of search` are counted. Then drop the pivot level and remove the index, so you can merge this new table back into the `boroughs2` DataFrame."
   ]
  },
  {
   "cell_type": "code",
   "execution_count": null,
   "metadata": {},
   "outputs": [],
   "source": [
    "dfpivot = pd.pivot_table(dfsjoin,index='code',columns='Object of search',aggfunc={'Object of search':'count'})\n",
    "dfpivot.columns = dfpivot.columns.droplevel()\n",
    "dfpivot = dfpivot.reset_index()\n",
    "dfpivot.head()"
   ]
  },
  {
   "cell_type": "code",
   "execution_count": null,
   "metadata": {},
   "outputs": [],
   "source": [
    "boroughs2 = boroughs.merge(dfpivot, how='left',on='code')\n",
    "boroughs2.head()"
   ]
  },
  {
   "cell_type": "markdown",
   "metadata": {},
   "source": [
    "Let's make some maps!"
   ]
  },
  {
   "cell_type": "code",
   "execution_count": null,
   "metadata": {},
   "outputs": [],
   "source": [
    "fig, axs = plt.subplots(1, 2, figsize=(20,5))\n",
    "\n",
    "p1=boroughs2.plot(column='Controlled drugs',ax=axs[0],cmap='Blues',legend=True);\n",
    "axs[0].set_title('Controlled drugs', fontdict={'fontsize': '12', 'fontweight' : '5'});\n",
    "\n",
    "p2=boroughs2.plot(column='Stolen goods',ax=axs[1], cmap='Reds',legend=True);\n",
    "axs[1].set_title('Stolen goods', fontdict={'fontsize': '12', 'fontweight' : '5'});\n"
   ]
  },
  {
   "cell_type": "markdown",
   "metadata": {},
   "source": [
    "<div class=\"alert alert-success\">\n",
    " <b>QUESTION 6 </b> - Improve the above maps. How many actual arrests are there in each borough? Use the above method but first select only the arrests using the column 'Outcome'. <br/> \n",
    "</div>  "
   ]
  },
  {
   "cell_type": "code",
   "execution_count": null,
   "metadata": {},
   "outputs": [],
   "source": [
    "# answer 6\n"
   ]
  },
  {
   "cell_type": "code",
   "execution_count": null,
   "metadata": {},
   "outputs": [],
   "source": [
    "# %load https://raw.githubusercontent.com/IBMDeveloperUK/foss4g-geopandas/master/answers/crime_answer6a.py"
   ]
  },
  {
   "cell_type": "code",
   "execution_count": null,
   "metadata": {},
   "outputs": [],
   "source": [
    "# %load https://raw.githubusercontent.com/IBMDeveloperUK/foss4g-geopandas/master/answers/crime_answer6b.py"
   ]
  },
  {
   "cell_type": "markdown",
   "metadata": {},
   "source": [
    "<div class=\"alert alert-success\">\n",
    " <b>QUESTION 7 </b> - Are there changes over time? Is there a difference between months? Use `street` and look at Westminster or another borough where the crime rate seems higher. Is there a difference in crimes commited by men and women? And what about the age groups? <br/> \n",
    "</div>  "
   ]
  },
  {
   "cell_type": "code",
   "execution_count": null,
   "metadata": {},
   "outputs": [],
   "source": []
  },
  {
   "cell_type": "markdown",
   "metadata": {},
   "source": [
    "<div class=\"alert alert-success\">\n",
    " <b>QUESTION 8 </b> - Make heatmaps for different crime types or other classes (optionally for different periods in the year) <br/>\n",
    "</div> "
   ]
  },
  {
   "cell_type": "code",
   "execution_count": null,
   "metadata": {},
   "outputs": [],
   "source": []
  },
  {
   "cell_type": "markdown",
   "metadata": {},
   "source": [
    "### Author\n",
    "Margriet Groenendijk is a Data & AI Developer Advocate for IBM. She develops and presents talks and workshops about data science and AI. She is active in the local developer communities through attending, presenting and organising meetups. She has a background in climate science where she explored large observational datasets of carbon uptake by forests during her PhD, and global scale weather and climate models as a postdoctoral fellow. \n",
    "\n",
    "Copyright © 2019 IBM. This notebook and its source code are released under the terms of the MIT License."
   ]
  },
  {
   "cell_type": "code",
   "execution_count": null,
   "metadata": {},
   "outputs": [],
   "source": []
  }
 ],
 "metadata": {
  "kernelspec": {
   "display_name": "Python 3",
   "language": "python",
   "name": "python3"
  },
  "language_info": {
   "codemirror_mode": {
    "name": "ipython",
    "version": 3
   },
   "file_extension": ".py",
   "mimetype": "text/x-python",
   "name": "python",
   "nbconvert_exporter": "python",
   "pygments_lexer": "ipython3",
   "version": "3.6.12"
  }
 },
 "nbformat": 4,
 "nbformat_minor": 1
}
